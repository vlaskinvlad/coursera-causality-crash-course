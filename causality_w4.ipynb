{
 "cells": [
  {
   "cell_type": "code",
   "execution_count": null,
   "metadata": {},
   "outputs": [],
   "source": [
    "options(repr.plot.width=6, repr.plot.height=4)"
   ]
  },
  {
   "cell_type": "code",
   "execution_count": null,
   "metadata": {},
   "outputs": [],
   "source": [
    "install.packages(c(\"tableone\", \"Matching\", \"ipw\", \"survey\", \"MatchIt\", \"sandwich\", \"pROC\", \"sjPlot\"))"
   ]
  },
  {
   "cell_type": "code",
   "execution_count": null,
   "metadata": {},
   "outputs": [],
   "source": [
    "library(tableone); library(Matching); library(ipw); library(ipw); library(MatchIt); library(sandwich)\n",
    "library(pROC)"
   ]
  },
  {
   "cell_type": "code",
   "execution_count": null,
   "metadata": {},
   "outputs": [],
   "source": [
    "library(dplyr)"
   ]
  },
  {
   "cell_type": "code",
   "execution_count": null,
   "metadata": {},
   "outputs": [],
   "source": [
    "data(lalonde, package = 'MatchIt')"
   ]
  },
  {
   "cell_type": "markdown",
   "metadata": {},
   "source": [
    "Fit a propensity score model.\n",
    "\n",
    "Use a logistic regression model, where the outcome is treatment.\n",
    "\n",
    "Include the 8 confounding variables in the model as predictors, with no interaction terms or non-linear terms (such as squared terms). Obtain the propensity score for each subject. \n",
    "\n",
    "Next, obtain the inverse probability of treatment weights for each subject."
   ]
  },
  {
   "cell_type": "code",
   "execution_count": null,
   "metadata": {},
   "outputs": [],
   "source": [
    "str(lalonde)"
   ]
  },
  {
   "cell_type": "markdown",
   "metadata": {},
   "source": [
    "### Propensity score model"
   ]
  },
  {
   "cell_type": "code",
   "execution_count": null,
   "metadata": {},
   "outputs": [],
   "source": [
    "psmodel <- glm(treat ~ age+educ+black+hispan+married+nodegree+re74+re75, data=lalonde, family=binomial(link='logit'))\n",
    "pscore <- predict(psmodel, type='response')\n",
    "lalonde$pscore <- pscore\n",
    "roc(lalonde$treat, pscore)"
   ]
  },
  {
   "cell_type": "markdown",
   "metadata": {},
   "source": [
    "### Making weights"
   ]
  },
  {
   "cell_type": "code",
   "execution_count": null,
   "metadata": {},
   "outputs": [],
   "source": [
    "library(survey)"
   ]
  },
  {
   "cell_type": "code",
   "execution_count": null,
   "metadata": {},
   "outputs": [],
   "source": [
    "xvars <- c('age', 'educ', 'black', 'hispan', 'married', 'nodegree', 're74', 're75', 're78')"
   ]
  },
  {
   "cell_type": "code",
   "execution_count": null,
   "metadata": {},
   "outputs": [],
   "source": [
    "weight <- ifelse(lalonde$treat == 1, 1/(pscore), 1/(1-pscore))\n",
    "weighteddata <- svydesign(ids = ~1, data=lalonde, weights = ~weight)\n",
    "# weighted table 1\n",
    "weightedtable <- svyCreateTableOne(xvars, strata='treat', data=weighteddata, test=FALSE)"
   ]
  },
  {
   "cell_type": "raw",
   "metadata": {},
   "source": [
    "weightedtable0 <- CreateTableOne(xvars, strata='treat', data=lalonde, test=FALSE)"
   ]
  },
  {
   "cell_type": "code",
   "execution_count": null,
   "metadata": {},
   "outputs": [],
   "source": [
    "print(weightedtable0, smd=TRUE)"
   ]
  },
  {
   "cell_type": "code",
   "execution_count": null,
   "metadata": {},
   "outputs": [],
   "source": [
    "print(weightedtable, smd=TRUE)"
   ]
  },
  {
   "cell_type": "markdown",
   "metadata": {},
   "source": [
    "Reproducing age manually"
   ]
  },
  {
   "cell_type": "code",
   "execution_count": null,
   "metadata": {},
   "outputs": [],
   "source": [
    "dfr <- data.frame(lalonde)\n",
    "dfr$w <- weight\n",
    "weighted.mean(dfr[dfr$treat==1, 'age'], dfr[dfr$treat==1, c('w')]);\n",
    "weighted.mean(dfr[dfr$treat==0, 'age'], dfr[dfr$treat==0, c('w')])"
   ]
  },
  {
   "cell_type": "markdown",
   "metadata": {},
   "source": [
    "#### q1\n",
    "\n",
    "What are the minimum and maximum weights?"
   ]
  },
  {
   "cell_type": "code",
   "execution_count": null,
   "metadata": {},
   "outputs": [],
   "source": [
    "min(weight); max(weight)"
   ]
  },
  {
   "cell_type": "markdown",
   "metadata": {},
   "source": [
    "> q1 (1.0091633986672, 40.0772930454117)"
   ]
  },
  {
   "cell_type": "markdown",
   "metadata": {},
   "source": [
    "#### q2\n",
    "\n",
    "Find the standardized differences for each confounder on the weighted (pseudo) population. What is the standardized difference for nodegree?"
   ]
  },
  {
   "cell_type": "code",
   "execution_count": null,
   "metadata": {},
   "outputs": [],
   "source": [
    "print(weightedtable, smd=TRUE)"
   ]
  },
  {
   "cell_type": "markdown",
   "metadata": {},
   "source": [
    "> q2: smd(nodegree) = 0.11"
   ]
  },
  {
   "cell_type": "markdown",
   "metadata": {},
   "source": [
    "#### q3\n",
    "\n",
    "Using IPTW, find the estimate and 95% confidence interval for the average causal effect. \n",
    "\n",
    "This can be obtained from svyglm"
   ]
  },
  {
   "cell_type": "code",
   "execution_count": null,
   "metadata": {},
   "outputs": [],
   "source": [
    "ate_fit <- svyglm(re78~treat, design=weighteddata)\n",
    "summary(ate_fit)"
   ]
  },
  {
   "cell_type": "code",
   "execution_count": null,
   "metadata": {},
   "outputs": [],
   "source": [
    "m <- summary(ate_fit)\n",
    "m$coefficients[2,1] + c(-1, 1)*m$coefficients[2,2]*qt(0.975, df=nrow(weighteddata) - 1, lower.tail=FALSE)"
   ]
  },
  {
   "cell_type": "markdown",
   "metadata": {},
   "source": [
    "> q3: 224.7 (-1562.8, 2012.2)"
   ]
  },
  {
   "cell_type": "markdown",
   "metadata": {},
   "source": [
    "#### q4\n",
    "\n",
    "Now truncate the weights at the 1st and 99th percentiles. This can be done with the trunc=0.01 option in svyglm.\n",
    "\n",
    "Note: `trunc=0.01` doesn't work"
   ]
  },
  {
   "cell_type": "code",
   "execution_count": null,
   "metadata": {},
   "outputs": [],
   "source": [
    "weight <- ifelse(lalonde$treat == 1, 1/(lalonde$pscore), 1/(1-lalonde$pscore))\n",
    "weight_supp <- quantile(weight,c(.01, .99))"
   ]
  },
  {
   "cell_type": "code",
   "execution_count": null,
   "metadata": {},
   "outputs": [],
   "source": [
    "ddf <- data.frame(lalonde)\n",
    "ddf$w <- weight"
   ]
  },
  {
   "cell_type": "code",
   "execution_count": null,
   "metadata": {},
   "outputs": [],
   "source": [
    "trunc_ddf <- filter(ddf, w > weight_supp[1] & w < weight_supp[2])"
   ]
  },
  {
   "cell_type": "code",
   "execution_count": null,
   "metadata": {},
   "outputs": [],
   "source": [
    "tr_weight <- ifelse(trunc_ddf$treat == 1, 1/(trunc_ddf$pscore), 1/(1-trunc_ddf$pscore))\n",
    "\n",
    "tr_weighteddata <- svydesign(ids = ~1, data=trunc_ddf, weights = ~tr_weight)\n",
    "\n",
    "tr_ate_fit <- svyglm(re78~treat, design=tr_weighteddata)\n",
    "\n",
    "summary(tr_ate_fit)"
   ]
  },
  {
   "cell_type": "code",
   "execution_count": null,
   "metadata": {},
   "outputs": [],
   "source": [
    "m <- summary(tr_ate_fit)\n",
    "m$coefficients[2,1] + c(-1, 1)*m$coefficients[2,2]*qt(0.975, df=m$df.residual, lower.tail=FALSE)"
   ]
  },
  {
   "cell_type": "markdown",
   "metadata": {},
   "source": [
    "> q4: 505.8 (-1143.8, 2155.4)"
   ]
  }
 ],
 "metadata": {
  "kernelspec": {
   "display_name": "R",
   "language": "R",
   "name": "ir"
  },
  "language_info": {
   "codemirror_mode": "r",
   "file_extension": ".r",
   "mimetype": "text/x-r-source",
   "name": "R",
   "pygments_lexer": "r",
   "version": "3.4.1"
  }
 },
 "nbformat": 4,
 "nbformat_minor": 2
}
